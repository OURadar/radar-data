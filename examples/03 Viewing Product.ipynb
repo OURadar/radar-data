{
 "cells": [
  {
   "cell_type": "code",
   "execution_count": null,
   "id": "58aa6d62",
   "metadata": {},
   "outputs": [],
   "source": [
    "import os\n",
    "import sys\n",
    "import blib\n",
    "import glob\n",
    "import numpy as np\n",
    "\n",
    "srcDir = os.path.abspath(\"../src\")\n",
    "if os.path.exists(srcDir):\n",
    "    print(\"Using development src dir\", srcDir)\n",
    "    sys.path.insert(0, srcDir)\n",
    "\n",
    "import radar\n",
    "import radar.chart\n",
    "\n",
    "blib.useTheme(\"dark\")"
   ]
  },
  {
   "cell_type": "code",
   "execution_count": null,
   "id": "b3af9b23",
   "metadata": {},
   "outputs": [],
   "source": [
    "# files = sorted(glob.glob(os.path.expanduser(\"~/Downloads/data/read-test/PX-202405*.xz\")))\n",
    "files = sorted(glob.glob(os.path.expanduser(\"~/Downloads/data/PX-202505*.txz\")))\n",
    "# files = sorted(glob.glob(os.path.expanduser(\"~/Downloads/data/*-E6.0.txz\")))\n",
    "assert len(files) > 0, \"No files found\"\n",
    "file = files[min(len(files) - 1, 7)]\n",
    "print(f\"Selected file {file} ({len(files)} files)\")"
   ]
  },
  {
   "cell_type": "code",
   "execution_count": null,
   "id": "b31b32ab",
   "metadata": {},
   "outputs": [],
   "source": [
    "sweep = radar.read(file)\n",
    "if sweep[\"longitude\"] is None or sweep[\"latitude\"] is None:\n",
    "    sweep[\"longitude\"] = -97.46381\n",
    "    sweep[\"latitude\"] = 35.23682"
   ]
  },
  {
   "cell_type": "code",
   "execution_count": null,
   "id": "161cea2c",
   "metadata": {},
   "outputs": [],
   "source": [
    "# chart = radar.chart.ChartPPI(sweep, rmax=100, s=1)\n",
    "chart = radar.chart.ChartPPI(sweep)\n",
    "chart.fig"
   ]
  },
  {
   "cell_type": "code",
   "execution_count": null,
   "id": "442d3ab2",
   "metadata": {},
   "outputs": [],
   "source": [
    "chart.set_data(sweep, rmax=60, xoff=-20, yoff=-20)\n",
    "chart.fig"
   ]
  },
  {
   "cell_type": "code",
   "execution_count": null,
   "id": "1562b0f8",
   "metadata": {},
   "outputs": [],
   "source": [
    "chart.fig.savefig(\"/Users/boonleng/Downloads/ppi.png\")\n",
    "# chart.fig"
   ]
  },
  {
   "cell_type": "code",
   "execution_count": null,
   "id": "18ddbf94",
   "metadata": {},
   "outputs": [],
   "source": []
  }
 ],
 "metadata": {
  "kernelspec": {
   "display_name": "3.12.11",
   "language": "python",
   "name": "python3"
  },
  "language_info": {
   "codemirror_mode": {
    "name": "ipython",
    "version": 3
   },
   "file_extension": ".py",
   "mimetype": "text/x-python",
   "name": "python",
   "nbconvert_exporter": "python",
   "pygments_lexer": "ipython3",
   "version": "3.12.11"
  }
 },
 "nbformat": 4,
 "nbformat_minor": 5
}
