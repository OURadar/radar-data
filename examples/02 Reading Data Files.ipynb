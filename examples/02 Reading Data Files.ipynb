{
 "cells": [
  {
   "cell_type": "code",
   "execution_count": 1,
   "metadata": {},
   "outputs": [],
   "source": [
    "import os\n",
    "import logging\n",
    "\n",
    "# Can be replaced as import radar if you have it installed\n",
    "import src.radar as radar"
   ]
  },
  {
   "cell_type": "code",
   "execution_count": 2,
   "metadata": {},
   "outputs": [],
   "source": [
    "logger = logging.getLogger(\"radar-data\")\n",
    "logging.basicConfig(format=radar.cosmetics.log_format, level=logging.INFO)"
   ]
  },
  {
   "cell_type": "code",
   "execution_count": 3,
   "metadata": {},
   "outputs": [],
   "source": [
    "files = [\n",
    "    \"~/Downloads/data/read-test/PX-20240529-150246-E4.0.tar.xz\",  # WDSS-II collections in tar.xz\n",
    "    \"~/Downloads/data/read-test/PX-20240529-150246-E4.0-Z.nc\",  # WDSS-II, auto-gathered\n",
    "    \"~/Downloads/data/read-test/RK-20240729-175543-E2.0.nc.txz\",  # CF-1.7 from RadarKit\n",
    "    \"~/Downloads/data/read-test/PX-20241221-125419-E6.0.txz\",  # CF-1.7 from RadarKit\n",
    "    \"~/Downloads/data/read-test/PX-20241221-125419-E6.0.nc\",  # CF-1.7 from RadarKit\n",
    "    \"~/Downloads/data/read-test/BS1-20230616-020024-E6.4.txz\",  # CF-2 in txz\n",
    "    \"~/Downloads/data/read-test/cfrad.20150625_050022_PX1000_v35_s1.nc\",  # David's convention\n",
    "    \"~/Downloads/data/read-test/cfrad.20080604_002217_000_SPOL_v36_SUR.nc\",  # From open-radar-data\n",
    "    \"~/Downloads/data/read-test/cfrad.20211011_201557.188_to_20211011_201617.720_DOW8_PPI.nc\",  # From open-radar-data\n",
    "    \"~/Downloads/data/read-test/cfrad.20211011_201711.345_to_20211011_201732.860_DOW8_PPI.nc\",  # From open-radar-data\n",
    "    \"~/Downloads/data/read-test/KTLX20250217_204640_V06\",  # NEXRAD L2 VOLUME\n",
    "    \"~/Downloads/data/read-test/KTLX-20250503-165233-900-1-S\",  # NEXRAD L2-BZIP2 LDM\n",
    "]"
   ]
  },
  {
   "cell_type": "code",
   "execution_count": 4,
   "metadata": {},
   "outputs": [
    {
     "name": "stderr",
     "output_type": "stream",
     "text": [
      "2025-05-04 11:12:57,207 INFO    \u001b[38;5;154mradar.read()\u001b[0m \u001b[38;5;228m/Users/boonleng/Downloads/data/read-test/PX-20240529-150246-E4.0.tar.xz\u001b[0m\n",
      "2025-05-04 11:12:57,358 INFO    \u001b[38;5;154mradar.read()\u001b[0m \u001b[38;5;228m/Users/boonleng/Downloads/data/read-test/PX-20240529-150246-E4.0-Z.nc\u001b[0m\n",
      "2025-05-04 11:12:57,380 INFO    \u001b[38;5;154mradar.read()\u001b[0m \u001b[38;5;228m/Users/boonleng/Downloads/data/read-test/RK-20240729-175543-E2.0.nc.txz\u001b[0m\n",
      "2025-05-04 11:12:57,598 INFO    \u001b[38;5;154mradar.read()\u001b[0m \u001b[38;5;228m/Users/boonleng/Downloads/data/read-test/PX-20241221-125419-E6.0.txz\u001b[0m\n",
      "2025-05-04 11:12:57,720 INFO    \u001b[38;5;154mradar.read()\u001b[0m \u001b[38;5;228m/Users/boonleng/Downloads/data/read-test/PX-20241221-125419-E6.0.nc\u001b[0m\n",
      "2025-05-04 11:12:57,826 INFO    \u001b[38;5;154mradar.read()\u001b[0m \u001b[38;5;228m/Users/boonleng/Downloads/data/read-test/BS1-20230616-020024-E6.4.txz\u001b[0m\n",
      "2025-05-04 11:12:58,047 INFO    \u001b[38;5;154mradar.read()\u001b[0m \u001b[38;5;228m/Users/boonleng/Downloads/data/read-test/cfrad.20150625_050022_PX1000_v35_s1.nc\u001b[0m\n",
      "2025-05-04 11:12:58,128 INFO    \u001b[38;5;154mradar.read()\u001b[0m \u001b[38;5;228m/Users/boonleng/Downloads/data/read-test/cfrad.20080604_002217_000_SPOL_v36_SUR.nc\u001b[0m\n",
      "2025-05-04 11:12:58,326 INFO    \u001b[38;5;154mradar.read()\u001b[0m \u001b[38;5;228m/Users/boonleng/Downloads/data/read-test/cfrad.20211011_201557.188_to_20211011_201617.720_DOW8_PPI.nc\u001b[0m\n",
      "2025-05-04 11:12:58,516 INFO    \u001b[38;5;154mradar.read()\u001b[0m \u001b[38;5;228m/Users/boonleng/Downloads/data/read-test/cfrad.20211011_201711.345_to_20211011_201732.860_DOW8_PPI.nc\u001b[0m\n",
      "2025-05-04 11:12:58,705 INFO    \u001b[38;5;154mradar.read()\u001b[0m \u001b[38;5;228m/Users/boonleng/Downloads/data/read-test/KTLX20250217_204640_V06\u001b[0m\n",
      "2025-05-04 11:12:59,056 INFO    \u001b[38;5;154mradar.read()\u001b[0m \u001b[38;5;228m/Users/boonleng/Downloads/data/read-test/KTLX-20250503-165233-900-1-S\u001b[0m\n"
     ]
    }
   ],
   "source": [
    "for file in files:\n",
    "    path = os.path.expanduser(file)\n",
    "    data = radar.read(path, verbose=1)"
   ]
  },
  {
   "cell_type": "code",
   "execution_count": 5,
   "metadata": {},
   "outputs": [
    {
     "name": "stdout",
     "output_type": "stream",
     "text": [
      "{ 'kind': '31',\n",
      "  'txrx': 'M',\n",
      "  'time': 1746291153.0,\n",
      "  'latitude': 35.3333625793457,\n",
      "  'longitude': -97.27776336669922,\n",
      "  'sweepElevation': 0.4833984375,\n",
      "  'sweepAzimuth': 0.0,\n",
      "  'prf': 330.79999999999995,\n",
      "  'waveform': 'u',\n",
      "  'gatewidth': 250,\n",
      "  'elevations': array([0.35, 0.41, 0.53, ..., 0.53, 0.53, 0.53], dtype='>f4'),\n",
      "  'azimuths': array([120.25, 120.75, 121.25, ..., 118.75, 119.25, 119.75], dtype='>f4'),\n",
      "  'ranges': array([  2125,   2375,   2625, ..., 299375, 299625, 299875]),\n",
      "  'products': { \n",
      "    'Z': array_2d(data=[[ -9.00, -14.50,  -9.50, ..., -33.00, -33.00, -33.00],\n",
      "                        [ -7.50, -14.00,  -9.00, ..., -33.00, -33.00, -33.00],\n",
      "                        [-11.00,  -6.50,  -3.00, ..., -33.00, -33.00, -33.00],\n",
      "                        ...,\n",
      "                        [ -9.50,  -7.50,  -2.50, ..., -33.00, -33.00, -33.00],\n",
      "                        [-15.00, -15.00,  -5.50, ..., -33.00, -33.00, -33.00],\n",
      "                        [-12.00, -17.50,  -9.00, ..., -33.00, -33.00, -33.00]],\n",
      "                  mask=[[ False,  False,  False, ...,   True,   True,   True],\n",
      "                        [ False,  False,  False, ...,   True,   True,   True],\n",
      "                        [ False,  False,  False, ...,   True,   True,   True],\n",
      "                        ...,\n",
      "                        [ False,  False,  False, ...,   True,   True,   True],\n",
      "                        [ False,  False,  False, ...,   True,   True,   True],\n",
      "                        [ False,  False,  False, ...,   True,   True,   True]],\n",
      "                  fill_value=nan,\n",
      "                  dtype=float32),\n",
      "    'D': array_2d(data=[[  2.22,   2.69,   3.59, ..., -13.06, -13.06, -13.06],\n",
      "                        [  2.41,   4.06,   5.09, ..., -13.06, -13.06, -13.06],\n",
      "                        [  2.19,   3.19,   4.97, ..., -13.06, -13.06, -13.06],\n",
      "                        ...,\n",
      "                        [  5.34,   6.09,  11.97, ..., -13.06, -13.06, -13.06],\n",
      "                        [  1.38,   2.53,   8.31, ..., -13.06, -13.06, -13.06],\n",
      "                        [  3.25,   5.72,   1.91, ..., -13.06, -13.06, -13.06]],\n",
      "                  mask=[[ False,  False,  False, ...,   True,   True,   True],\n",
      "                        [ False,  False,  False, ...,   True,   True,   True],\n",
      "                        [ False,  False,  False, ...,   True,   True,   True],\n",
      "                        ...,\n",
      "                        [ False,  False,  False, ...,   True,   True,   True],\n",
      "                        [ False,  False,  False, ...,   True,   True,   True],\n",
      "                        [ False,  False,  False, ...,   True,   True,   True]],\n",
      "                  fill_value=nan,\n",
      "                  dtype=float32),\n",
      "    'P': array_2d(data=[[ 50.07,  39.14,  51.13, ...,  -0.71,  -0.71,  -0.71],\n",
      "                        [ 50.42,  64.53,  54.30, ...,  -0.71,  -0.71,  -0.71],\n",
      "                        [ 53.95,  61.00,  58.88, ...,  -0.71,  -0.71,  -0.71],\n",
      "                        ...,\n",
      "                        [ 53.95,  55.01, 340.96, ...,  -0.71,  -0.71,  -0.71],\n",
      "                        [ 48.31,  46.19, 344.13, ...,  -0.71,  -0.71,  -0.71],\n",
      "                        [ 53.59,  60.65,  54.65, ...,  -0.71,  -0.71,  -0.71]],\n",
      "                  mask=[[ False,  False,  False, ...,   True,   True,   True],\n",
      "                        [ False,  False,  False, ...,   True,   True,   True],\n",
      "                        [ False,  False,  False, ...,   True,   True,   True],\n",
      "                        ...,\n",
      "                        [ False,  False,  False, ...,   True,   True,   True],\n",
      "                        [ False,  False,  False, ...,   True,   True,   True],\n",
      "                        [ False,  False,  False, ...,   True,   True,   True]],\n",
      "                  fill_value=nan,\n",
      "                  dtype=float32),\n",
      "    'R': array_2d(data=[[  0.98,   0.70,   0.96, ...,   0.20,   0.20,   0.20],\n",
      "                        [  0.95,   0.54,   0.92, ...,   0.20,   0.20,   0.20],\n",
      "                        [  0.89,   0.98,   0.99, ...,   0.20,   0.20,   0.20],\n",
      "                        ...,\n",
      "                        [  0.88,   0.92,   0.88, ...,   0.20,   0.20,   0.20],\n",
      "                        [  0.84,   0.93,   0.54, ...,   0.20,   0.20,   0.20],\n",
      "                        [  0.97,   0.78,   0.85, ...,   0.20,   0.20,   0.20]],\n",
      "                  mask=[[ False,  False,  False, ...,   True,   True,   True],\n",
      "                        [ False,  False,  False, ...,   True,   True,   True],\n",
      "                        [ False,  False,  False, ...,   True,   True,   True],\n",
      "                        ...,\n",
      "                        [ False,  False,  False, ...,   True,   True,   True],\n",
      "                        [ False,  False,  False, ...,   True,   True,   True],\n",
      "                        [ False,  False,  False, ...,   True,   True,   True]],\n",
      "                  fill_value=nan,\n",
      "                  dtype=float32)\n",
      "    }}\n"
     ]
    }
   ],
   "source": [
    "radar.print(data)"
   ]
  },
  {
   "cell_type": "code",
   "execution_count": null,
   "metadata": {},
   "outputs": [],
   "source": []
  }
 ],
 "metadata": {
  "kernelspec": {
   "display_name": "Python 3",
   "language": "python",
   "name": "python3"
  },
  "language_info": {
   "codemirror_mode": {
    "name": "ipython",
    "version": 3
   },
   "file_extension": ".py",
   "mimetype": "text/x-python",
   "name": "python",
   "nbconvert_exporter": "python",
   "pygments_lexer": "ipython3",
   "version": "3.12.4"
  }
 },
 "nbformat": 4,
 "nbformat_minor": 2
}
