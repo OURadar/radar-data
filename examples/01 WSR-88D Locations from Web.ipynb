{
 "cells": [
  {
   "cell_type": "code",
   "execution_count": 1,
   "metadata": {},
   "outputs": [],
   "source": [
    "import json\n",
    "import pandas as pd"
   ]
  },
  {
   "cell_type": "code",
   "execution_count": 2,
   "metadata": {},
   "outputs": [
    {
     "name": "stdout",
     "output_type": "stream",
     "text": [
      "      wban  site                name        coordinate  elevation  height\n",
      "0    14929  KABR        Aberdeen, SD  452721 / 0982447       1302      20\n",
      "1    54766  KENX          Albany, NY  423511 / 0740350       1826      20\n",
      "2    03019  KABX     Albuquerque, NM  350859 / 1064926       5870      20\n",
      "3    03981  KFDR       Altus AFB, OK  342144 / 0985835       1267      10\n",
      "4    23047  KAMA        Amarillo, TX  351400 / 1014233       3587      20\n",
      "..     ...   ...                 ...               ...        ...     ...\n",
      "153  03995  KVNX       Vance AFB, OK  364427 / 0980740       1210      10\n",
      "154  93234  KVBX  Vandenberg AFB, CA  345017 / 1202349       1223      20\n",
      "155  03928  KICT         Wichita, KS  373917 / 0972634       1335      10\n",
      "156  93774  KLTX      Wilmington, NC  335922 / 0782544         64      20\n",
      "157  53116  KYUX            Yuma, AZ  322943 / 1143924        174      10\n",
      "\n",
      "[158 rows x 6 columns]\n"
     ]
    }
   ],
   "source": [
    "# https://apollo.nvu.vsc.edu/classes/remote/lecture_notes/radar/88d/88D_locations.html\n",
    "\n",
    "# Load the HTML tables into a list of DataFrames\n",
    "dfs = pd.read_html('blob/88d-locations.html', header=0)\n",
    "df = dfs[0]\n",
    "\n",
    "# Rename the columns for easier access\n",
    "df.columns = ['wban', 'site', 'name', 'coordinate', 'elevation', 'height']\n",
    "\n",
    "print(df)"
   ]
  },
  {
   "cell_type": "code",
   "execution_count": 3,
   "metadata": {},
   "outputs": [],
   "source": [
    "# Raw location in deg/min/sec\n",
    "def parse_coord_str(string):\n",
    "    return float(string[:-4]) + float(string[-4:-2]) / 60.0 + float(string[-2:]) / 3600.0\n",
    "\n",
    "# Raw elevation in feet\n",
    "def ft2m(ft):\n",
    "    return ft * 0.3048\n",
    "\n",
    "# WBAN may be \"PENDING\"\n",
    "def parse_int(string):\n",
    "    try:\n",
    "        i = int(string)\n",
    "    except:\n",
    "        i = None\n",
    "    return i"
   ]
  },
  {
   "cell_type": "code",
   "execution_count": 4,
   "metadata": {},
   "outputs": [],
   "source": [
    "df.set_index('site', inplace=True)\n",
    "collection = df.to_dict(orient='index')"
   ]
  },
  {
   "cell_type": "code",
   "execution_count": 5,
   "metadata": {},
   "outputs": [],
   "source": [
    "new_collection = {}\n",
    "for key, row in collection.items():\n",
    "    lat_lon_str = row['coordinate'].split('/')\n",
    "    lat = parse_coord_str(lat_lon_str[0].strip())\n",
    "    lon_str = lat_lon_str[1].strip()\n",
    "    if lon_str[-1] == 'E':\n",
    "        lon = parse_coord_str(lon_str[:-1])\n",
    "    else:\n",
    "        lon = -parse_coord_str(lon_str)\n",
    "    elevation = ft2m(float(row['elevation']))\n",
    "    wban = parse_int(row['wban'])\n",
    "    new_collection[key] = {'latitude': lat, 'longitude': lon, 'elevation': elevation, 'height':float(row['height']), 'wban': wban}"
   ]
  },
  {
   "cell_type": "code",
   "execution_count": null,
   "metadata": {},
   "outputs": [],
   "source": [
    "with open('blob/nexrad-locations.json', 'w') as fid:\n",
    "    fid.write(json.dumps(new_collection, indent=4))"
   ]
  },
  {
   "cell_type": "code",
   "execution_count": null,
   "metadata": {},
   "outputs": [],
   "source": []
  }
 ],
 "metadata": {
  "kernelspec": {
   "display_name": "3.11.4",
   "language": "python",
   "name": "python3"
  },
  "language_info": {
   "codemirror_mode": {
    "name": "ipython",
    "version": 3
   },
   "file_extension": ".py",
   "mimetype": "text/x-python",
   "name": "python",
   "nbconvert_exporter": "python",
   "pygments_lexer": "ipython3",
   "version": "3.11.4"
  }
 },
 "nbformat": 4,
 "nbformat_minor": 2
}
