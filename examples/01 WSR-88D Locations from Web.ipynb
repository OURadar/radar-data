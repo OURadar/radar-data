{
 "cells": [
  {
   "cell_type": "code",
   "execution_count": null,
   "metadata": {},
   "outputs": [
    {
     "ename": "",
     "evalue": "",
     "output_type": "error",
     "traceback": [
      "\u001b[1;31mRunning cells with 'Python 3.12.10' requires the ipykernel package.\n",
      "\u001b[1;31m<a href='command:jupyter.createPythonEnvAndSelectController'>Create a Python Environment</a> with the required packages.\n",
      "\u001b[1;31mOr install 'ipykernel' using the command: '/opt/homebrew/bin/python3.12 -m pip install ipykernel -U --user --force-reinstall'"
     ]
    }
   ],
   "source": [
    "import json\n",
    "import pandas as pd"
   ]
  },
  {
   "cell_type": "code",
   "execution_count": null,
   "metadata": {},
   "outputs": [],
   "source": [
    "# https://apollo.nvu.vsc.edu/classes/remote/lecture_notes/radar/88d/88D_locations.html\n",
    "\n",
    "# Load the HTML tables into a list of DataFrames\n",
    "dfs = pd.read_html('blob/88d-locations.html', header=0)\n",
    "df = dfs[0]\n",
    "\n",
    "# Rename the columns for easier access\n",
    "df.columns = ['wban', 'site', 'name', 'coordinate', 'elevation', 'height']\n",
    "\n",
    "print(df)"
   ]
  },
  {
   "cell_type": "code",
   "execution_count": null,
   "metadata": {},
   "outputs": [],
   "source": [
    "# Raw location in deg/min/sec\n",
    "def parse_coord_str(string):\n",
    "    return float(string[:-4]) + float(string[-4:-2]) / 60.0 + float(string[-2:]) / 3600.0\n",
    "\n",
    "# Raw elevation in feet\n",
    "def ft2m(ft):\n",
    "    return ft * 0.3048\n",
    "\n",
    "# WBAN may be \"PENDING\"\n",
    "def parse_int(string):\n",
    "    try:\n",
    "        i = int(string)\n",
    "    except:\n",
    "        i = None\n",
    "    return i"
   ]
  },
  {
   "cell_type": "code",
   "execution_count": null,
   "metadata": {},
   "outputs": [],
   "source": [
    "df.set_index('site', inplace=True)\n",
    "collection = df.to_dict(orient='index')"
   ]
  },
  {
   "cell_type": "code",
   "execution_count": null,
   "metadata": {},
   "outputs": [],
   "source": [
    "new_collection = {}\n",
    "for key, row in collection.items():\n",
    "    lat_lon_str = row['coordinate'].split('/')\n",
    "    lat = parse_coord_str(lat_lon_str[0].strip())\n",
    "    lon_str = lat_lon_str[1].strip()\n",
    "    if lon_str[-1] == 'E':\n",
    "        lon = parse_coord_str(lon_str[:-1])\n",
    "    else:\n",
    "        lon = -parse_coord_str(lon_str)\n",
    "    elevation = ft2m(float(row['elevation']))\n",
    "    wban = parse_int(row['wban'])\n",
    "    new_collection[key] = {'latitude': lat, 'longitude': lon, 'elevation': elevation, 'height':float(row['height']), 'wban': wban}"
   ]
  },
  {
   "cell_type": "code",
   "execution_count": null,
   "metadata": {},
   "outputs": [],
   "source": [
    "with open('blob/nexrad-locations.json', 'w') as fid:\n",
    "    fid.write(json.dumps(new_collection, indent=4))"
   ]
  },
  {
   "cell_type": "code",
   "execution_count": null,
   "metadata": {},
   "outputs": [],
   "source": []
  }
 ],
 "metadata": {
  "kernelspec": {
   "display_name": "Python 3",
   "language": "python",
   "name": "python3"
  },
  "language_info": {
   "codemirror_mode": {
    "name": "ipython",
    "version": 3
   },
   "file_extension": ".py",
   "mimetype": "text/x-python",
   "name": "python",
   "nbconvert_exporter": "python",
   "pygments_lexer": "ipython3",
   "version": "3.12.10"
  }
 },
 "nbformat": 4,
 "nbformat_minor": 2
}
